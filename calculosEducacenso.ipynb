{
 "cells": [
  {
   "cell_type": "code",
   "execution_count": 7,
   "metadata": {},
   "outputs": [],
   "source": [
    "import pandas as pd\n",
    "import math\n",
    "import numpy as np\n",
    "from sklearn.neural_network import MLPRegressor\n",
    "from sklearn.datasets import make_regression\n",
    "from sklearn.model_selection import train_test_split\n",
    "from sklearn.model_selection import KFold\n",
    "from sklearn.model_selection import cross_val_score\n",
    "from sklearn.tree import DecisionTreeRegressor\n",
    "import matplotlib.pyplot as plt\n",
    "from sklearn.preprocessing import Normalizer\n",
    "import seaborn as sns\n",
    "from sklearn.metrics import mean_absolute_error\n",
    "from sklearn.metrics import mean_squared_error\n",
    "import altair as alt\n",
    "import seaborn as sns\n",
    "from scipy import stats"
   ]
  },
  {
   "cell_type": "code",
   "execution_count": 8,
   "metadata": {},
   "outputs": [
    {
     "data": {
      "text/plain": [
       "(105973, 105)"
      ]
     },
     "execution_count": 8,
     "metadata": {},
     "output_type": "execute_result"
    }
   ],
   "source": [
    "df = pd.read_csv('2020.csv')\n",
    "df = df.drop(['Unnamed: 0'], axis = 1)\n",
    "df.shape"
   ]
  },
  {
   "cell_type": "code",
   "execution_count": 9,
   "metadata": {},
   "outputs": [],
   "source": [
    "df_necessidade_especial = df.query(\"IN_NECESSIDADE_ESPECIAL == 1\")"
   ]
  },
  {
   "cell_type": "code",
   "execution_count": 10,
   "metadata": {},
   "outputs": [],
   "source": [
    "ampliada18 = df_necessidade_especial.query('IN_RECURSO_AMPLIADA_18 == 1').shape[0]\n",
    "ampliada24 = df_necessidade_especial.query('IN_RECURSO_AMPLIADA_24 == 1').shape[0]\n",
    "recurso_braile = df_necessidade_especial.query('IN_RECURSO_BRAILLE == 1').shape[0]\n",
    "recurso_cd = df_necessidade_especial.query('IN_RECURSO_CD_AUDIO == 1').shape[0]\n",
    "recurso_inter = df_necessidade_especial.query('IN_RECURSO_INTERPRETE == 1').shape[0]\n",
    "recurso_labial = df_necessidade_especial.query('IN_RECURSO_LABIAL == 1').shape[0]\n",
    "recurso_ledor = df_necessidade_especial.query('IN_RECURSO_LEDOR == 1').shape[0]\n",
    "recurso_libras = df_necessidade_especial.query('IN_RECURSO_LIBRAS == 1').shape[0]\n",
    "recurso_nenhum = df_necessidade_especial.query('IN_RECURSO_NENHUM == 1').shape[0]\n",
    "recurso_prova_pt = df_necessidade_especial.query('IN_RECURSO_PROVA_PORTUGUES == 1').shape[0]\n",
    "recurso_transcisao = df_necessidade_especial.query('IN_RECURSO_TRANSCRICAO == 1').shape[0]\n",
    "recurso_video_libras = df_necessidade_especial.query('IN_RECURSO_VIDEO_LIBRAS == 1').shape[0]"
   ]
  },
  {
   "cell_type": "code",
   "execution_count": 11,
   "metadata": {},
   "outputs": [],
   "source": [
    "cegueira = df_necessidade_especial.IN_CEGUEIRA.sum()\n",
    "baixa_visao = df_necessidade_especial.IN_BAIXA_VISAO.sum()\n",
    "auditiva = df_necessidade_especial.IN_DEF_AUDITIVA.sum()\n",
    "def_fisica = df_necessidade_especial.IN_DEF_FISICA.sum()\n",
    "def_inte = df_necessidade_especial.IN_DEF_INTELECTUAL.sum()\n",
    "surdez = df_necessidade_especial.IN_SURDEZ.sum()\n",
    "surdocegueira = df_necessidade_especial.IN_SURDOCEGUEIRA.sum()\n",
    "def_multipla = df_necessidade_especial.IN_DEF_MULTIPLA.sum()\n",
    "autismo = df_necessidade_especial.IN_AUTISMO.sum()\n",
    "superd = df_necessidade_especial.IN_SUPERDOTACAO.sum()\n",
    "\n",
    "\n",
    "aee_braile = df_necessidade_especial.IN_AEE_BRAILLE.sum()\n",
    "aee_caa = df_necessidade_especial.IN_AEE_CAA.sum()\n",
    "aee_desen_cog = df_necessidade_especial.IN_AEE_DESEN_COGNITIVO.sum()\n",
    "aee_enri_cur = df_necessidade_especial.IN_AEE_ENRIQ_CURRICULAR.sum()\n",
    "aee_info = df_necessidade_especial.IN_AEE_INFORMATICA_ACESSIVEL.sum()\n",
    "aee_libras = df_necessidade_especial.IN_AEE_LIBRAS.sum()\n",
    "aee_lingua_port = df_necessidade_especial.IN_AEE_LINGUA_PORTUGUESA.sum()\n",
    "aee_mobi = df_necessidade_especial.IN_AEE_MOBILIDADE.sum()\n",
    "aee_opticos_n_opt = df_necessidade_especial.IN_AEE_OPTICOS_NAO_OPTICOS.sum()\n",
    "aee_vida_aut = df_necessidade_especial.IN_AEE_VIDA_AUTONOMA.sum()\n",
    "aee_soroban = df_necessidade_especial.IN_AEE_SOROBAN.sum()"
   ]
  },
  {
   "cell_type": "markdown",
   "metadata": {},
   "source": [
    "### Distribuição de idade dos alunos filtrados"
   ]
  },
  {
   "cell_type": "code",
   "execution_count": 12,
   "metadata": {
    "scrolled": false
   },
   "outputs": [
    {
     "name": "stdout",
     "output_type": "stream",
     "text": [
      "Media: 11.34488029969898\n",
      "Desvio Padrão: 6.907859506175711\n",
      "Mediana: 11.0\n",
      "Moda: 11\n"
     ]
    },
    {
     "data": {
      "image/png": "[encoded data removed]",
      "text/plain": [
       "<Figure size 432x288 with 1 Axes>"
      ]
     },
     "metadata": {
      "needs_background": "light"
     },
     "output_type": "display_data"
    }
   ],
   "source": [
    "media = df['NU_IDADE'].mean()\n",
    "std = df['NU_IDADE'].std()\n",
    "mediana = df['NU_IDADE'].median()\n",
    "moda = df['NU_IDADE'].mode()\n",
    "sns.histplot(data=df, x=\"NU_IDADE\", kde= True)\n",
    "print(\"Media: \" + str(media))\n",
    "print(\"Desvio Padrão: \" + str(std))\n",
    "print(\"Mediana: \" + str(mediana))\n",
    "print(\"Moda: \" + str(moda[0]))"
   ]
  },
  {
   "cell_type": "markdown",
   "metadata": {},
   "source": [
    "### Teste de Normalidade"
   ]
  },
  {
   "cell_type": "code",
   "execution_count": 13,
   "metadata": {},
   "outputs": [
    {
     "name": "stdout",
     "output_type": "stream",
     "text": [
      "p = 0\n",
      "The null hypothesis can be rejected\n"
     ]
    }
   ],
   "source": [
    "k2, p = stats.normaltest(df['NU_IDADE'])\n",
    "alpha = 0.05\n",
    "print(\"p = {:g}\".format(p))\n",
    "\n",
    "if p < alpha:  \n",
    "    print(\"The null hypothesis can be rejected\")\n",
    "else:\n",
    "    print(\"The null hypothesis cannot be rejected\")"
   ]
  },
  {
   "cell_type": "markdown",
   "metadata": {},
   "source": [
    "### Análise dos Quartis"
   ]
  },
  {
   "cell_type": "code",
   "execution_count": 14,
   "metadata": {},
   "outputs": [
    {
     "name": "stdout",
     "output_type": "stream",
     "text": [
      "Primeiro quartil: 7.0\n",
      "Segundo quartil: 11.0\n",
      "Terceiro quartil: 14.0\n",
      "Valor Maximo: 86.0\n"
     ]
    },
    {
     "data": {
      "image/png": "[encoded data removed]",
      "text/plain": [
       "<Figure size 432x288 with 1 Axes>"
      ]
     },
     "metadata": {
      "needs_background": "light"
     },
     "output_type": "display_data"
    }
   ],
   "source": [
    "pri_quartil = df['NU_IDADE'].quantile(.25)\n",
    "seg_quartil = df['NU_IDADE'].quantile(.5)\n",
    "ter_quartil = df['NU_IDADE'].quantile(.75)\n",
    "qua_quartil = df['NU_IDADE'].quantile(1)\n",
    "sns.boxplot(x=df[\"NU_IDADE\"])\n",
    "print(\"Primeiro quartil: \" + str(pri_quartil))\n",
    "print(\"Segundo quartil: \" + str(seg_quartil))\n",
    "print(\"Terceiro quartil: \"+ str(ter_quartil))\n",
    "print(\"Valor Maximo: \"+ str(qua_quartil))"
   ]
  },
  {
   "cell_type": "markdown",
   "metadata": {},
   "source": [
    "### Distribuição de Gênero Declarado"
   ]
  },
  {
   "cell_type": "code",
   "execution_count": 15,
   "metadata": {},
   "outputs": [
    {
     "data": {
      "text/plain": [
       "54452"
      ]
     },
     "execution_count": 15,
     "metadata": {},
     "output_type": "execute_result"
    },
    {
     "data": {
      "image/png": "[encoded data removed]",
      "text/plain": [
       "<Figure size 720x432 with 1 Axes>"
      ]
     },
     "metadata": {},
     "output_type": "display_data"
    }
   ],
   "source": [
    "data_sexo = df.groupby(\"TP_SEXO\")['TP_SEXO'].count()\n",
    "pie, ax = plt.subplots(figsize=[10,6])\n",
    "labels = [\"Masculino\", \"Feminino\"]\n",
    "plt.pie(x=data_sexo, autopct=\"%.1f%%\", labels=labels, pctdistance=0.5)\n",
    "plt.title(\"Sexo dos Alunos\", fontsize=14)\n",
    "\n",
    "data_sexo[1]"
   ]
  },
  {
   "cell_type": "markdown",
   "metadata": {},
   "source": [
    "### Distribuição por Tipo de Zona Residêncial e de Estudo"
   ]
  },
  {
   "cell_type": "code",
   "execution_count": 16,
   "metadata": {},
   "outputs": [
    {
     "name": "stdout",
     "output_type": "stream",
     "text": [
      "83677 Alunos moram em zona Urbana\n",
      "22296 Alunos moram em zona Rural\n"
     ]
    },
    {
     "data": {
      "image/png": "[encoded data removed]",
      "text/plain": [
       "<Figure size 432x288 with 1 Axes>"
      ]
     },
     "metadata": {},
     "output_type": "display_data"
    }
   ],
   "source": [
    "data_regiao = df.groupby(\"TP_ZONA_RESIDENCIAL\")['TP_ZONA_RESIDENCIAL'].count()\n",
    "pie, ax = plt.subplots()\n",
    "labels = [\"Urbana \", \"Rural\"]\n",
    "plt.pie(x=data_regiao, autopct=\"%.1f%%\", labels=labels, pctdistance=0.5)\n",
    "plt.title(\"Localização/Zona de Residência\", fontsize=14)\n",
    "print(str(data_regiao[1]) + \" Alunos moram em zona Urbana\")\n",
    "print(str(data_regiao[2]) + \" Alunos moram em zona Rural\")"
   ]
  },
  {
   "cell_type": "code",
   "execution_count": 57,
   "metadata": {},
   "outputs": [
    {
     "data": {
      "text/plain": [
       "1    83677.0\n",
       "2    22296.0\n",
       "3        NaN\n",
       "Name: TP_ZONA_RESIDENCIAL, dtype: float64"
      ]
     },
     "execution_count": 57,
     "metadata": {},
     "output_type": "execute_result"
    }
   ],
   "source": [
    "regiao_dic = (1,2,3)\n",
    "\n",
    "t = pd.Series(data=df.groupby(\"TP_ZONA_RESIDENCIAL\")['TP_ZONA_RESIDENCIAL'].count(), index = regiao_dic)\n",
    "t"
   ]
  },
  {
   "cell_type": "code",
   "execution_count": 37,
   "metadata": {
    "scrolled": true
   },
   "outputs": [
    {
     "name": "stdout",
     "output_type": "stream",
     "text": [
      "101678 Alunos não estudam em localização diferenciada\n",
      "1180 Alunos estudam em escola localizada em área de assentamento\n",
      "2944 Alunos estudam em escola localizada em terra indígena\n",
      "171 Alunos estudam em escola localizada em comunidade remanescente de quilombos\n"
     ]
    },
    {
     "data": {
      "image/png": "[encoded data removed]",
      "text/plain": [
       "<Figure size 432x288 with 1 Axes>"
      ]
     },
     "metadata": {},
     "output_type": "display_data"
    }
   ],
   "source": [
    "data_local_diferenciado = df.groupby(\"TP_LOCALIZACAO_DIFERENCIADA\")['TP_LOCALIZACAO_DIFERENCIADA'].count()\n",
    "pie, ax = plt.subplots()\n",
    "labels = [\"Não diferenciada \", \"Área de assentamento\", \"Terra indígena\", \"Comunidade remanescente de quilombos\"]\n",
    "plt.pie(x=data_local_diferenciado, autopct=\"%.1f%%\", labels=labels, pctdistance=0.5)\n",
    "plt.title(\"Estuda em zona diferenciada\", fontsize=14)\n",
    "print(str(data_local_diferenciado[0]) + \" Alunos não estudam em localização diferenciada\")\n",
    "print(str(data_local_diferenciado[1]) + \" Alunos estudam em escola localizada em área de assentamento\")\n",
    "print(str(data_local_diferenciado[2]) + \" Alunos estudam em escola localizada em terra indígena\")\n",
    "print(str(data_local_diferenciado[3]) + \" Alunos estudam em escola localizada em comunidade remanescente de quilombos\")"
   ]
  },
  {
   "cell_type": "markdown",
   "metadata": {},
   "source": [
    "### Distribuição por Necessidade Especial"
   ]
  },
  {
   "cell_type": "code",
   "execution_count": 18,
   "metadata": {},
   "outputs": [],
   "source": [
    "d = {\n",
    "    'Nome': ['Cegueira', \"Baixa Visão\", \"Deficiência Auditiva\", \"Deficiência Física\", \"Deficiência Intelectual\", \"Surdez\", \"Super Dotação\", \"Autismo\", \"Deficiência Múltipla\", \"Surdocegueira\"],\n",
    "    'Quantidade': [cegueira, baixa_visao, auditiva, def_fisica, def_inte, surdez, superd, autismo, def_multipla, surdocegueira]\n",
    "}\n",
    "quantidades_ne = pd.DataFrame(d)"
   ]
  },
  {
   "cell_type": "code",
   "execution_count": 19,
   "metadata": {},
   "outputs": [],
   "source": [
    "data_necessidade = df.groupby(\"IN_NECESSIDADE_ESPECIAL\")['IN_NECESSIDADE_ESPECIAL'].count()"
   ]
  },
  {
   "cell_type": "code",
   "execution_count": 20,
   "metadata": {},
   "outputs": [
    {
     "name": "stdout",
     "output_type": "stream",
     "text": [
      "102124 Alunos não possuem necessidades especiais\n",
      "3849 Alunos possuem algum tipo de necessidade especials\n"
     ]
    },
    {
     "data": {
      "image/png": "[encoded data removed]",
      "text/plain": [
       "<Figure size 432x288 with 1 Axes>"
      ]
     },
     "metadata": {},
     "output_type": "display_data"
    }
   ],
   "source": [
    "pie, ax = plt.subplots()\n",
    "labels = [\"Não \", \"Sim\"]\n",
    "plt.pie(x=data_necessidade, autopct=\"%.1f%%\", labels=labels, pctdistance=0.5)\n",
    "plt.title(\"Apresenta Necessidade Especial\", fontsize=14)\n",
    "print(str(data_necessidade[0]) + \" Alunos não possuem necessidades especiais\")\n",
    "print(str(data_necessidade[1]) + \" Alunos possuem algum tipo de necessidade especials\")"
   ]
  },
  {
   "cell_type": "code",
   "execution_count": 21,
   "metadata": {},
   "outputs": [
    {
     "name": "stdout",
     "output_type": "stream",
     "text": [
      "10.0 Alunos apresentam Cegueira\n",
      "116.0 Alunos apresentam Baixa Visão\n",
      "73.0 Alunos apresentam Deficiência Auditiva\n",
      "350.0 Alunos apresentam Deficiência Física\n",
      "2363.0 Alunos apresentam Deficiência Intelectual\n",
      "75.0 Alunos apresentam Surdez\n",
      "79.0 Alunos apresentam Super Dotação\n",
      "1126.0 Alunos apresentam Autismo\n",
      "172.0 Alunos apresentam Deficiência Múltipla\n",
      "1.0 Alunos apresentam Surdocegueira\n"
     ]
    },
    {
     "data": {
      "image/png": "[encoded data removed]",
      "text/plain": [
       "<Figure size 432x288 with 1 Axes>"
      ]
     },
     "metadata": {},
     "output_type": "display_data"
    }
   ],
   "source": [
    "pie, ax = plt.subplots()\n",
    "plt.pie(x=quantidades_ne['Quantidade'], labels = quantidades_ne['Nome'], autopct=\"%.1f%%\", pctdistance=0.5)\n",
    "plt.title(\"Apresenta Necessidade Especial\", fontsize=14)\n",
    "\n",
    "for index, row in quantidades_ne.iterrows():\n",
    "    print(str(row[\"Quantidade\"]) + \" Alunos apresentam \" + row['Nome'])"
   ]
  },
  {
   "cell_type": "markdown",
   "metadata": {},
   "source": [
    "### Distribuição por Etapa de Ensino"
   ]
  },
  {
   "cell_type": "code",
   "execution_count": 22,
   "metadata": {},
   "outputs": [
    {
     "data": {
      "text/plain": [
       "<AxesSubplot:xlabel='TP_ETAPA_ENSINO', ylabel='Count'>"
      ]
     },
     "execution_count": 22,
     "metadata": {},
     "output_type": "execute_result"
    },
    {
     "data": {
      "image/png": "[encoded data removed]",
      "text/plain": [
       "<Figure size 432x288 with 1 Axes>"
      ]
     },
     "metadata": {
      "needs_background": "light"
     },
     "output_type": "display_data"
    }
   ],
   "source": [
    "data_etapa = df.groupby(\"TP_ETAPA_ENSINO\")['TP_ETAPA_ENSINO'].count()\n",
    "sns.histplot(data=df, x=\"TP_ETAPA_ENSINO\", kde = True, stat = 'count')"
   ]
  },
  {
   "cell_type": "code",
   "execution_count": 23,
   "metadata": {},
   "outputs": [],
   "source": [
    "dicionario_etapa = {\n",
    "    \"14\": \"Ensino Fundamental de 9 anos - 1º Ano\",\n",
    "    \"15\" : \"Ensino Fundamental de 9 anos : 2º Ano\",\n",
    "    \"16\" : \"Ensino Fundamental de 9 anos : 3º Ano\",\n",
    "    \"17\" : \"Ensino Fundamental de 9 anos : 4º Ano\",\n",
    "    \"18\" : \"Ensino Fundamental de 9 anos : 5º Ano\",\n",
    "    \"19\" : \"Ensino Fundamental de 9 anos : 6º Ano\",\n",
    "    \"20\" : \"Ensino Fundamental de 9 anos : 7º Ano\",\n",
    "    \"21\" : \"Ensino Fundamental de 9 anos : 8º Ano\",\n",
    "    \"41\" : \"Ensino Fundamental de 9 anos : 9º Ano\",\n",
    "    \"25\" : \"Ensino Médio : 1º ano/1ª Série\",\n",
    "    \"26\" : \"Ensino Médio : 2º ano/2ª Série\",\n",
    "    \"27\" : \"Ensino Médio : 3ºano/3ª Série\",\n",
    "    \"28\" : \"Ensino Médio : 4º ano/4ª Série\",\n",
    "    \"29\" : \"Ensino Médio : Não Seriada\",\n",
    "    \"30\" : \"Curso Técnico Integrado (Ensino Médio Integrado) 1ª Série\",\n",
    "    \"31\" : \"Curso Técnico Integrado (Ensino Médio Integrado) 2ª Série\",\n",
    "    \"32\" : \"Curso Técnico Integrado (Ensino Médio Integrado) 3ª Série\",\n",
    "    \"33\" : \"Curso Técnico Integrado (Ensino Médio Integrado) 4ª Série\",\n",
    "    \"34\" : \"Curso Técnico Integrado (Ensino Médio Integrado) Não Seriada\",\n",
    "    \"35\" : \"Ensino Médio : Modalidade Normal/Magistério 1ª Série\",\n",
    "    \"36\" : \"Ensino Médio : Modalidade Normal/Magistério 2ª Série\",\n",
    "    \"37\" : \"Ensino Médio : Modalidade Normal/Magistério 3ª Série\",\n",
    "    \"38\" : \"Ensino Médio : Modalidade Normal/Magistério 4ª Série\",\n",
    "    \"39\" : \"Curso Técnico : Concomitante\",\n",
    "    \"40\" : \"Curso Técnico : Subsequente\",\n",
    "    \"67\" : \"Curso FIC integrado na modalidade EJA  : Nível Médio\",\n",
    "    \"68\" : \"Curso FIC Concomitante\",\n",
    "    \"69\" : \"EJA : Ensino Fundamental : Anos Iniciais\",\n",
    "    \"70\" : \"EJA : Ensino Fundamental : Anos Finais\",\n",
    "    \"71\" : \"EJA : Ensino Médio\",\n",
    "    \"73\" :\"Curso FIC integrado na modalidade EJA - Nível Fundamental (EJA integrada à Educação Profissional de Nível Fundamental)\",\n",
    "    \"74\" :\"Curso Técnico Integrado na Modalidade EJA (EJA integrada à Educação Profissional de Nível Médio)\"\n",
    "}"
   ]
  },
  {
   "cell_type": "code",
   "execution_count": 24,
   "metadata": {},
   "outputs": [],
   "source": [
    "dicionario_etapa_2 = {\n",
    "    \"Ensino Fundamental de 9 anos , 1º Ano\": \"14.0\",\n",
    "    \"Ensino Fundamental de 9 anos , 2º Ano\": \"15\",\n",
    "    \"Ensino Fundamental de 9 anos , 3º Ano\": \"16\",\n",
    "    \"Ensino Fundamental de 9 anos , 4º Ano\":\"17\",\n",
    "    \"Ensino Fundamental de 9 anos , 5º Ano\":\"18.0\", \n",
    "    \"Ensino Fundamental de 9 anos , 6º Ano\":\"19\", \n",
    "    \"Ensino Fundamental de 9 anos , 7º Ano\":\"20\", \n",
    "    \"Ensino Fundamental de 9 anos , 8º Ano\":\"21\", \n",
    "    \"Ensino Fundamental de 9 anos , 9º Ano\":\"41\", \n",
    "    \"Ensino Médio , 1º ano/1ª Série\":\"25\", \n",
    "    \"Ensino Médio , 2º ano/2ª Série\":\"26\", \n",
    "    \"Ensino Médio , 3ºano/3ª Série\":\"27\", \n",
    "    \"Ensino Médio , 4º ano/4ª Série\":\"28\", \n",
    "    \"Ensino Médio , Não Seriada\":\"29\", \n",
    "    \"Curso Técnico Integrado (Ensino Médio Integrado) 1ª Série\":\"30\", \n",
    "    \"Curso Técnico Integrado (Ensino Médio Integrado) 2ª Série\":\"31\", \n",
    "    \"Curso Técnico Integrado (Ensino Médio Integrado) 3ª Série\":\"32\", \n",
    "    \"Curso Técnico Integrado (Ensino Médio Integrado) 4ª Série\":\"33\", \n",
    "    \"Curso Técnico Integrado (Ensino Médio Integrado) Não Seriada\":\"34\", \n",
    "    \"Ensino Médio , Modalidade Normal/Magistério 1ª Série\":\"35\", \n",
    "    \"Ensino Médio , Modalidade Normal/Magistério 2ª Série\":\"36\", \n",
    "    \"Ensino Médio , Modalidade Normal/Magistério 3ª Série\":\"37\", \n",
    "    \"Ensino Médio , Modalidade Normal/Magistério 4ª Série\":\"38\", \n",
    "    \"Curso Técnico , Concomitante\":\"39\",\n",
    "    \"Curso Técnico , Subsequente\":\"40\",\n",
    "    \"Curso FIC integrado na modalidade EJA  , Nível Médio\":\"67\",\n",
    "    \"Curso FIC Concomitante\":\"68\", \n",
    "    \"EJA , Ensino Fundamental , Anos Iniciais\":\"69\", \n",
    "    \"EJA , Ensino Fundamental , Anos Finais\":\"70\", \n",
    "    \"EJA , Ensino Médio\": \"71\",\n",
    "    \"Curso FIC integrado na modalidade EJA : Nível Fundamental (EJA integrada à Educação Profissional de Nível Fundamental)\": \"73\",\n",
    "    \"Curso Técnico Integrado na Modalidade EJA (EJA integrada à Educação Profissional de Nível Médio)\": \"74\"\n",
    "}"
   ]
  },
  {
   "cell_type": "code",
   "execution_count": 184,
   "metadata": {},
   "outputs": [],
   "source": []
  },
  {
   "cell_type": "code",
   "execution_count": 31,
   "metadata": {},
   "outputs": [],
   "source": [
    "data_raca = df.groupby(\"TP_COR_RACA\")['TP_COR_RACA'].count()\n"
   ]
  },
  {
   "cell_type": "code",
   "execution_count": 37,
   "metadata": {},
   "outputs": [
    {
     "data": {
      "text/plain": [
       "105973"
      ]
     },
     "execution_count": 37,
     "metadata": {},
     "output_type": "execute_result"
    }
   ],
   "source": [
    "data_raca.sum()"
   ]
  },
  {
   "cell_type": "code",
   "execution_count": 44,
   "metadata": {},
   "outputs": [
    {
     "data": {
      "text/plain": [
       "1.9142321707431785e-80"
      ]
     },
     "execution_count": 44,
     "metadata": {},
     "output_type": "execute_result"
    }
   ],
   "source": [
    "(data_raca[0] / total)"
   ]
  },
  {
   "cell_type": "code",
   "execution_count": 39,
   "metadata": {},
   "outputs": [],
   "source": [
    "total = data_raca.sum()"
   ]
  },
  {
   "cell_type": "code",
   "execution_count": null,
   "metadata": {},
   "outputs": [],
   "source": []
  },
  {
   "cell_type": "code",
   "execution_count": 45,
   "metadata": {},
   "outputs": [
    {
     "data": {
      "text/html": [
       "<div>\n",
       "<style scoped>\n",
       "    .dataframe tbody tr th:only-of-type {\n",
       "        vertical-align: middle;\n",
       "    }\n",
       "\n",
       "    .dataframe tbody tr th {\n",
       "        vertical-align: top;\n",
       "    }\n",
       "\n",
       "    .dataframe thead th {\n",
       "        text-align: right;\n",
       "    }\n",
       "</style>\n",
       "<table border=\"1\" class=\"dataframe\">\n",
       "  <thead>\n",
       "    <tr style=\"text-align: right;\">\n",
       "      <th></th>\n",
       "      <th>Nome</th>\n",
       "      <th>Quantidade</th>\n",
       "    </tr>\n",
       "  </thead>\n",
       "  <tbody>\n",
       "    <tr>\n",
       "      <th>0</th>\n",
       "      <td>Cegueira</td>\n",
       "      <td>10.0</td>\n",
       "    </tr>\n",
       "    <tr>\n",
       "      <th>1</th>\n",
       "      <td>Baixa Visão</td>\n",
       "      <td>116.0</td>\n",
       "    </tr>\n",
       "    <tr>\n",
       "      <th>2</th>\n",
       "      <td>Deficiência Auditiva</td>\n",
       "      <td>73.0</td>\n",
       "    </tr>\n",
       "    <tr>\n",
       "      <th>3</th>\n",
       "      <td>Deficiência Física</td>\n",
       "      <td>350.0</td>\n",
       "    </tr>\n",
       "    <tr>\n",
       "      <th>4</th>\n",
       "      <td>Deficiência Intelectual</td>\n",
       "      <td>2363.0</td>\n",
       "    </tr>\n",
       "    <tr>\n",
       "      <th>5</th>\n",
       "      <td>Surdez</td>\n",
       "      <td>75.0</td>\n",
       "    </tr>\n",
       "    <tr>\n",
       "      <th>6</th>\n",
       "      <td>Super Dotação</td>\n",
       "      <td>79.0</td>\n",
       "    </tr>\n",
       "    <tr>\n",
       "      <th>7</th>\n",
       "      <td>Autismo</td>\n",
       "      <td>1126.0</td>\n",
       "    </tr>\n",
       "    <tr>\n",
       "      <th>8</th>\n",
       "      <td>Deficiência Múltipla</td>\n",
       "      <td>172.0</td>\n",
       "    </tr>\n",
       "    <tr>\n",
       "      <th>9</th>\n",
       "      <td>Surdocegueira</td>\n",
       "      <td>1.0</td>\n",
       "    </tr>\n",
       "  </tbody>\n",
       "</table>\n",
       "</div>"
      ],
      "text/plain": [
       "                      Nome  Quantidade\n",
       "0                 Cegueira        10.0\n",
       "1              Baixa Visão       116.0\n",
       "2     Deficiência Auditiva        73.0\n",
       "3       Deficiência Física       350.0\n",
       "4  Deficiência Intelectual      2363.0\n",
       "5                   Surdez        75.0\n",
       "6            Super Dotação        79.0\n",
       "7                  Autismo      1126.0\n",
       "8     Deficiência Múltipla       172.0\n",
       "9            Surdocegueira         1.0"
      ]
     },
     "execution_count": 45,
     "metadata": {},
     "output_type": "execute_result"
    }
   ],
   "source": [
    "quantidades_ne"
   ]
  },
  {
   "cell_type": "code",
   "execution_count": 60,
   "metadata": {},
   "outputs": [],
   "source": [
    "faixa_etaria=(50,55)\n",
    "filtered_data = df.query(\"NU_IDADE >= @faixa_etaria[0] and NU_IDADE <= @faixa_etaria[1]\")"
   ]
  },
  {
   "cell_type": "code",
   "execution_count": 61,
   "metadata": {},
   "outputs": [
    {
     "data": {
      "text/html": [
       "<div>\n",
       "<style scoped>\n",
       "    .dataframe tbody tr th:only-of-type {\n",
       "        vertical-align: middle;\n",
       "    }\n",
       "\n",
       "    .dataframe tbody tr th {\n",
       "        vertical-align: top;\n",
       "    }\n",
       "\n",
       "    .dataframe thead th {\n",
       "        text-align: right;\n",
       "    }\n",
       "</style>\n",
       "<table border=\"1\" class=\"dataframe\">\n",
       "  <thead>\n",
       "    <tr style=\"text-align: right;\">\n",
       "      <th></th>\n",
       "      <th>INDEX_PLANILHA_CE</th>\n",
       "      <th>INDEX_PLANILHA_NORDESTE</th>\n",
       "      <th>NU_ANO_CENSO</th>\n",
       "      <th>ID_ALUNO</th>\n",
       "      <th>ID_MATRICULA</th>\n",
       "      <th>NU_MES</th>\n",
       "      <th>NU_ANO</th>\n",
       "      <th>NU_IDADE_REFERENCIA</th>\n",
       "      <th>NU_IDADE</th>\n",
       "      <th>TP_SEXO</th>\n",
       "      <th>...</th>\n",
       "      <th>IN_MANT_ESCOLA_PRIVADA_EMP</th>\n",
       "      <th>IN_MANT_ESCOLA_PRIVADA_ONG</th>\n",
       "      <th>IN_MANT_ESCOLA_PRIVADA_OSCIP</th>\n",
       "      <th>IN_MANT_ESCOLA_PRIV_ONG_OSCIP</th>\n",
       "      <th>IN_MANT_ESCOLA_PRIVADA_SIND</th>\n",
       "      <th>IN_MANT_ESCOLA_PRIVADA_SIST_S</th>\n",
       "      <th>IN_MANT_ESCOLA_PRIVADA_S_FINS</th>\n",
       "      <th>TP_REGULAMENTACAO</th>\n",
       "      <th>TP_LOCALIZACAO_DIFERENCIADA</th>\n",
       "      <th>IN_EDUCACAO_INDIGENA</th>\n",
       "    </tr>\n",
       "  </thead>\n",
       "  <tbody>\n",
       "    <tr>\n",
       "      <th>3915</th>\n",
       "      <td>204946</td>\n",
       "      <td>1007838</td>\n",
       "      <td>2020</td>\n",
       "      <td>FE7920AE62793800BC045ABA9B3F9E78</td>\n",
       "      <td>280144745</td>\n",
       "      <td>6</td>\n",
       "      <td>1970</td>\n",
       "      <td>49</td>\n",
       "      <td>50</td>\n",
       "      <td>1</td>\n",
       "      <td>...</td>\n",
       "      <td>NaN</td>\n",
       "      <td>NaN</td>\n",
       "      <td>NaN</td>\n",
       "      <td>NaN</td>\n",
       "      <td>NaN</td>\n",
       "      <td>NaN</td>\n",
       "      <td>NaN</td>\n",
       "      <td>1</td>\n",
       "      <td>0</td>\n",
       "      <td>0</td>\n",
       "    </tr>\n",
       "    <tr>\n",
       "      <th>3917</th>\n",
       "      <td>205004</td>\n",
       "      <td>1008340</td>\n",
       "      <td>2020</td>\n",
       "      <td>665117D2A384BA6A4990BC26F0448AEC</td>\n",
       "      <td>280166845</td>\n",
       "      <td>6</td>\n",
       "      <td>1967</td>\n",
       "      <td>52</td>\n",
       "      <td>53</td>\n",
       "      <td>2</td>\n",
       "      <td>...</td>\n",
       "      <td>NaN</td>\n",
       "      <td>NaN</td>\n",
       "      <td>NaN</td>\n",
       "      <td>NaN</td>\n",
       "      <td>NaN</td>\n",
       "      <td>NaN</td>\n",
       "      <td>NaN</td>\n",
       "      <td>1</td>\n",
       "      <td>0</td>\n",
       "      <td>0</td>\n",
       "    </tr>\n",
       "    <tr>\n",
       "      <th>4816</th>\n",
       "      <td>255981</td>\n",
       "      <td>1259504</td>\n",
       "      <td>2020</td>\n",
       "      <td>4D3BF78AE04F7BC02633676B94B6044F</td>\n",
       "      <td>293663872</td>\n",
       "      <td>8</td>\n",
       "      <td>1966</td>\n",
       "      <td>53</td>\n",
       "      <td>54</td>\n",
       "      <td>2</td>\n",
       "      <td>...</td>\n",
       "      <td>0.0</td>\n",
       "      <td>0.0</td>\n",
       "      <td>0.0</td>\n",
       "      <td>0.0</td>\n",
       "      <td>0.0</td>\n",
       "      <td>1.0</td>\n",
       "      <td>0.0</td>\n",
       "      <td>2</td>\n",
       "      <td>0</td>\n",
       "      <td>0</td>\n",
       "    </tr>\n",
       "    <tr>\n",
       "      <th>5375</th>\n",
       "      <td>285466</td>\n",
       "      <td>1501800</td>\n",
       "      <td>2020</td>\n",
       "      <td>A6DB868204FF5C9750FA6891C9DCDCDF</td>\n",
       "      <td>313587943</td>\n",
       "      <td>12</td>\n",
       "      <td>1970</td>\n",
       "      <td>49</td>\n",
       "      <td>50</td>\n",
       "      <td>1</td>\n",
       "      <td>...</td>\n",
       "      <td>1.0</td>\n",
       "      <td>0.0</td>\n",
       "      <td>0.0</td>\n",
       "      <td>0.0</td>\n",
       "      <td>0.0</td>\n",
       "      <td>0.0</td>\n",
       "      <td>0.0</td>\n",
       "      <td>1</td>\n",
       "      <td>0</td>\n",
       "      <td>0</td>\n",
       "    </tr>\n",
       "    <tr>\n",
       "      <th>5389</th>\n",
       "      <td>286309</td>\n",
       "      <td>1508657</td>\n",
       "      <td>2020</td>\n",
       "      <td>0CD5285A17951770449FDEFC1A6C3959</td>\n",
       "      <td>320834000</td>\n",
       "      <td>12</td>\n",
       "      <td>1966</td>\n",
       "      <td>53</td>\n",
       "      <td>54</td>\n",
       "      <td>1</td>\n",
       "      <td>...</td>\n",
       "      <td>1.0</td>\n",
       "      <td>0.0</td>\n",
       "      <td>0.0</td>\n",
       "      <td>0.0</td>\n",
       "      <td>0.0</td>\n",
       "      <td>0.0</td>\n",
       "      <td>0.0</td>\n",
       "      <td>1</td>\n",
       "      <td>0</td>\n",
       "      <td>0</td>\n",
       "    </tr>\n",
       "    <tr>\n",
       "      <th>...</th>\n",
       "      <td>...</td>\n",
       "      <td>...</td>\n",
       "      <td>...</td>\n",
       "      <td>...</td>\n",
       "      <td>...</td>\n",
       "      <td>...</td>\n",
       "      <td>...</td>\n",
       "      <td>...</td>\n",
       "      <td>...</td>\n",
       "      <td>...</td>\n",
       "      <td>...</td>\n",
       "      <td>...</td>\n",
       "      <td>...</td>\n",
       "      <td>...</td>\n",
       "      <td>...</td>\n",
       "      <td>...</td>\n",
       "      <td>...</td>\n",
       "      <td>...</td>\n",
       "      <td>...</td>\n",
       "      <td>...</td>\n",
       "      <td>...</td>\n",
       "    </tr>\n",
       "    <tr>\n",
       "      <th>104285</th>\n",
       "      <td>2355919</td>\n",
       "      <td>13954603</td>\n",
       "      <td>2020</td>\n",
       "      <td>D30B241ACF9BA94FCAB34D2B5A1A0BEC</td>\n",
       "      <td>450648294</td>\n",
       "      <td>3</td>\n",
       "      <td>1968</td>\n",
       "      <td>52</td>\n",
       "      <td>52</td>\n",
       "      <td>2</td>\n",
       "      <td>...</td>\n",
       "      <td>1.0</td>\n",
       "      <td>0.0</td>\n",
       "      <td>0.0</td>\n",
       "      <td>0.0</td>\n",
       "      <td>0.0</td>\n",
       "      <td>0.0</td>\n",
       "      <td>0.0</td>\n",
       "      <td>1</td>\n",
       "      <td>0</td>\n",
       "      <td>0</td>\n",
       "    </tr>\n",
       "    <tr>\n",
       "      <th>104597</th>\n",
       "      <td>2358900</td>\n",
       "      <td>13986157</td>\n",
       "      <td>2020</td>\n",
       "      <td>A7CE39B43ECA921832AC4F7769867774</td>\n",
       "      <td>450777460</td>\n",
       "      <td>8</td>\n",
       "      <td>1969</td>\n",
       "      <td>50</td>\n",
       "      <td>51</td>\n",
       "      <td>2</td>\n",
       "      <td>...</td>\n",
       "      <td>0.0</td>\n",
       "      <td>0.0</td>\n",
       "      <td>0.0</td>\n",
       "      <td>0.0</td>\n",
       "      <td>0.0</td>\n",
       "      <td>1.0</td>\n",
       "      <td>0.0</td>\n",
       "      <td>2</td>\n",
       "      <td>0</td>\n",
       "      <td>0</td>\n",
       "    </tr>\n",
       "    <tr>\n",
       "      <th>104937</th>\n",
       "      <td>2366911</td>\n",
       "      <td>14068161</td>\n",
       "      <td>2020</td>\n",
       "      <td>D17FE097AB94F5EA8E1AC7974EC7535E</td>\n",
       "      <td>451267423</td>\n",
       "      <td>11</td>\n",
       "      <td>1969</td>\n",
       "      <td>50</td>\n",
       "      <td>51</td>\n",
       "      <td>2</td>\n",
       "      <td>...</td>\n",
       "      <td>NaN</td>\n",
       "      <td>NaN</td>\n",
       "      <td>NaN</td>\n",
       "      <td>NaN</td>\n",
       "      <td>NaN</td>\n",
       "      <td>NaN</td>\n",
       "      <td>NaN</td>\n",
       "      <td>1</td>\n",
       "      <td>2</td>\n",
       "      <td>1</td>\n",
       "    </tr>\n",
       "    <tr>\n",
       "      <th>105048</th>\n",
       "      <td>2368154</td>\n",
       "      <td>14079107</td>\n",
       "      <td>2020</td>\n",
       "      <td>649CBDE91091AD48C5771B601995A89C</td>\n",
       "      <td>451305308</td>\n",
       "      <td>4</td>\n",
       "      <td>1970</td>\n",
       "      <td>50</td>\n",
       "      <td>50</td>\n",
       "      <td>2</td>\n",
       "      <td>...</td>\n",
       "      <td>NaN</td>\n",
       "      <td>NaN</td>\n",
       "      <td>NaN</td>\n",
       "      <td>NaN</td>\n",
       "      <td>NaN</td>\n",
       "      <td>NaN</td>\n",
       "      <td>NaN</td>\n",
       "      <td>1</td>\n",
       "      <td>0</td>\n",
       "      <td>0</td>\n",
       "    </tr>\n",
       "    <tr>\n",
       "      <th>105915</th>\n",
       "      <td>2380792</td>\n",
       "      <td>14300201</td>\n",
       "      <td>2020</td>\n",
       "      <td>C3BBDBCD3A4B000C599F8BE3A4E1FC88</td>\n",
       "      <td>451879775</td>\n",
       "      <td>7</td>\n",
       "      <td>1966</td>\n",
       "      <td>53</td>\n",
       "      <td>54</td>\n",
       "      <td>1</td>\n",
       "      <td>...</td>\n",
       "      <td>NaN</td>\n",
       "      <td>NaN</td>\n",
       "      <td>NaN</td>\n",
       "      <td>NaN</td>\n",
       "      <td>NaN</td>\n",
       "      <td>NaN</td>\n",
       "      <td>NaN</td>\n",
       "      <td>2</td>\n",
       "      <td>0</td>\n",
       "      <td>0</td>\n",
       "    </tr>\n",
       "  </tbody>\n",
       "</table>\n",
       "<p>281 rows × 105 columns</p>\n",
       "</div>"
      ],
      "text/plain": [
       "        INDEX_PLANILHA_CE  INDEX_PLANILHA_NORDESTE  NU_ANO_CENSO  \\\n",
       "3915               204946                  1007838          2020   \n",
       "3917               205004                  1008340          2020   \n",
       "4816               255981                  1259504          2020   \n",
       "5375               285466                  1501800          2020   \n",
       "5389               286309                  1508657          2020   \n",
       "...                   ...                      ...           ...   \n",
       "104285            2355919                 13954603          2020   \n",
       "104597            2358900                 13986157          2020   \n",
       "104937            2366911                 14068161          2020   \n",
       "105048            2368154                 14079107          2020   \n",
       "105915            2380792                 14300201          2020   \n",
       "\n",
       "                                ID_ALUNO  ID_MATRICULA  NU_MES  NU_ANO  \\\n",
       "3915    FE7920AE62793800BC045ABA9B3F9E78     280144745       6    1970   \n",
       "3917    665117D2A384BA6A4990BC26F0448AEC     280166845       6    1967   \n",
       "4816    4D3BF78AE04F7BC02633676B94B6044F     293663872       8    1966   \n",
       "5375    A6DB868204FF5C9750FA6891C9DCDCDF     313587943      12    1970   \n",
       "5389    0CD5285A17951770449FDEFC1A6C3959     320834000      12    1966   \n",
       "...                                  ...           ...     ...     ...   \n",
       "104285  D30B241ACF9BA94FCAB34D2B5A1A0BEC     450648294       3    1968   \n",
       "104597  A7CE39B43ECA921832AC4F7769867774     450777460       8    1969   \n",
       "104937  D17FE097AB94F5EA8E1AC7974EC7535E     451267423      11    1969   \n",
       "105048  649CBDE91091AD48C5771B601995A89C     451305308       4    1970   \n",
       "105915  C3BBDBCD3A4B000C599F8BE3A4E1FC88     451879775       7    1966   \n",
       "\n",
       "        NU_IDADE_REFERENCIA  NU_IDADE  TP_SEXO  ...  \\\n",
       "3915                     49        50        1  ...   \n",
       "3917                     52        53        2  ...   \n",
       "4816                     53        54        2  ...   \n",
       "5375                     49        50        1  ...   \n",
       "5389                     53        54        1  ...   \n",
       "...                     ...       ...      ...  ...   \n",
       "104285                   52        52        2  ...   \n",
       "104597                   50        51        2  ...   \n",
       "104937                   50        51        2  ...   \n",
       "105048                   50        50        2  ...   \n",
       "105915                   53        54        1  ...   \n",
       "\n",
       "        IN_MANT_ESCOLA_PRIVADA_EMP  IN_MANT_ESCOLA_PRIVADA_ONG  \\\n",
       "3915                           NaN                         NaN   \n",
       "3917                           NaN                         NaN   \n",
       "4816                           0.0                         0.0   \n",
       "5375                           1.0                         0.0   \n",
       "5389                           1.0                         0.0   \n",
       "...                            ...                         ...   \n",
       "104285                         1.0                         0.0   \n",
       "104597                         0.0                         0.0   \n",
       "104937                         NaN                         NaN   \n",
       "105048                         NaN                         NaN   \n",
       "105915                         NaN                         NaN   \n",
       "\n",
       "        IN_MANT_ESCOLA_PRIVADA_OSCIP  IN_MANT_ESCOLA_PRIV_ONG_OSCIP  \\\n",
       "3915                             NaN                            NaN   \n",
       "3917                             NaN                            NaN   \n",
       "4816                             0.0                            0.0   \n",
       "5375                             0.0                            0.0   \n",
       "5389                             0.0                            0.0   \n",
       "...                              ...                            ...   \n",
       "104285                           0.0                            0.0   \n",
       "104597                           0.0                            0.0   \n",
       "104937                           NaN                            NaN   \n",
       "105048                           NaN                            NaN   \n",
       "105915                           NaN                            NaN   \n",
       "\n",
       "        IN_MANT_ESCOLA_PRIVADA_SIND  IN_MANT_ESCOLA_PRIVADA_SIST_S  \\\n",
       "3915                            NaN                            NaN   \n",
       "3917                            NaN                            NaN   \n",
       "4816                            0.0                            1.0   \n",
       "5375                            0.0                            0.0   \n",
       "5389                            0.0                            0.0   \n",
       "...                             ...                            ...   \n",
       "104285                          0.0                            0.0   \n",
       "104597                          0.0                            1.0   \n",
       "104937                          NaN                            NaN   \n",
       "105048                          NaN                            NaN   \n",
       "105915                          NaN                            NaN   \n",
       "\n",
       "        IN_MANT_ESCOLA_PRIVADA_S_FINS  TP_REGULAMENTACAO  \\\n",
       "3915                              NaN                  1   \n",
       "3917                              NaN                  1   \n",
       "4816                              0.0                  2   \n",
       "5375                              0.0                  1   \n",
       "5389                              0.0                  1   \n",
       "...                               ...                ...   \n",
       "104285                            0.0                  1   \n",
       "104597                            0.0                  2   \n",
       "104937                            NaN                  1   \n",
       "105048                            NaN                  1   \n",
       "105915                            NaN                  2   \n",
       "\n",
       "        TP_LOCALIZACAO_DIFERENCIADA  IN_EDUCACAO_INDIGENA  \n",
       "3915                              0                     0  \n",
       "3917                              0                     0  \n",
       "4816                              0                     0  \n",
       "5375                              0                     0  \n",
       "5389                              0                     0  \n",
       "...                             ...                   ...  \n",
       "104285                            0                     0  \n",
       "104597                            0                     0  \n",
       "104937                            2                     1  \n",
       "105048                            0                     0  \n",
       "105915                            0                     0  \n",
       "\n",
       "[281 rows x 105 columns]"
      ]
     },
     "execution_count": 61,
     "metadata": {},
     "output_type": "execute_result"
    }
   ],
   "source": [
    "filtered_data"
   ]
  },
  {
   "cell_type": "code",
   "execution_count": 62,
   "metadata": {},
   "outputs": [
    {
     "data": {
      "text/plain": [
       "IN_NECESSIDADE_ESPECIAL\n",
       "0    102124\n",
       "1      3849\n",
       "Name: IN_NECESSIDADE_ESPECIAL, dtype: int64"
      ]
     },
     "execution_count": 62,
     "metadata": {},
     "output_type": "execute_result"
    }
   ],
   "source": [
    "data_necessidade"
   ]
  },
  {
   "cell_type": "code",
   "execution_count": 68,
   "metadata": {},
   "outputs": [],
   "source": []
  },
  {
   "cell_type": "code",
   "execution_count": 72,
   "metadata": {},
   "outputs": [
    {
     "data": {
      "text/plain": [
       "array([11])"
      ]
     },
     "execution_count": 72,
     "metadata": {},
     "output_type": "execute_result"
    }
   ],
   "source": [
    "moda.values"
   ]
  },
  {
   "cell_type": "code",
   "execution_count": 74,
   "metadata": {},
   "outputs": [],
   "source": [
    "df2 = df.query(\"NU_IDADE == 99\") "
   ]
  },
  {
   "cell_type": "code",
   "execution_count": 93,
   "metadata": {},
   "outputs": [],
   "source": [
    "moda = df2['NU_IDADE'].mode()"
   ]
  },
  {
   "cell_type": "code",
   "execution_count": 98,
   "metadata": {},
   "outputs": [],
   "source": [
    "if df2['NU_IDADE'].mode().size > 0:\n",
    "    moda = moda[0]\n",
    "else:\n",
    "    moda = 0\n"
   ]
  },
  {
   "cell_type": "code",
   "execution_count": 99,
   "metadata": {},
   "outputs": [
    {
     "data": {
      "text/plain": [
       "0"
      ]
     },
     "execution_count": 99,
     "metadata": {},
     "output_type": "execute_result"
    }
   ],
   "source": [
    "moda"
   ]
  },
  {
   "cell_type": "code",
   "execution_count": 101,
   "metadata": {},
   "outputs": [
    {
     "data": {
      "text/plain": [
       "<bound method Index.unique of Index(['INDEX_PLANILHA_CE', 'INDEX_PLANILHA_NORDESTE', 'NU_ANO_CENSO',\n",
       "       'ID_ALUNO', 'ID_MATRICULA', 'NU_MES', 'NU_ANO', 'NU_IDADE_REFERENCIA',\n",
       "       'NU_IDADE', 'TP_SEXO',\n",
       "       ...\n",
       "       'IN_MANT_ESCOLA_PRIVADA_EMP', 'IN_MANT_ESCOLA_PRIVADA_ONG',\n",
       "       'IN_MANT_ESCOLA_PRIVADA_OSCIP', 'IN_MANT_ESCOLA_PRIV_ONG_OSCIP',\n",
       "       'IN_MANT_ESCOLA_PRIVADA_SIND', 'IN_MANT_ESCOLA_PRIVADA_SIST_S',\n",
       "       'IN_MANT_ESCOLA_PRIVADA_S_FINS', 'TP_REGULAMENTACAO',\n",
       "       'TP_LOCALIZACAO_DIFERENCIADA', 'IN_EDUCACAO_INDIGENA'],\n",
       "      dtype='object', length=105)>"
      ]
     },
     "execution_count": 101,
     "metadata": {},
     "output_type": "execute_result"
    }
   ],
   "source": []
  },
  {
   "cell_type": "code",
   "execution_count": 111,
   "metadata": {},
   "outputs": [
    {
     "data": {
      "text/plain": [
       "array([0, 1])"
      ]
     },
     "execution_count": 111,
     "metadata": {},
     "output_type": "execute_result"
    }
   ],
   "source": [
    "df.IN_NECESSIDADE_ESPECIAL.unique()"
   ]
  },
  {
   "cell_type": "code",
   "execution_count": null,
   "metadata": {},
   "outputs": [],
   "source": []
  }
 ],
 "metadata": {
  "kernelspec": {
   "display_name": "Python 3",
   "language": "python",
   "name": "python3"
  },
  "language_info": {
   "codemirror_mode": {
    "name": "ipython",
    "version": 3
   },
   "file_extension": ".py",
   "mimetype": "text/x-python",
   "name": "python",
   "nbconvert_exporter": "python",
   "pygments_lexer": "ipython3",
   "version": "3.8.5"
  }
 },
 "nbformat": 4,
 "nbformat_minor": 5
}
